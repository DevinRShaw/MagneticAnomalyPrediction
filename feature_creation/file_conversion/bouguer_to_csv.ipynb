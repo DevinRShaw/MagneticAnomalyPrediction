{
  "nbformat": 4,
  "nbformat_minor": 0,
  "metadata": {
    "colab": {
      "provenance": []
    },
    "kernelspec": {
      "name": "python3",
      "display_name": "Python 3"
    },
    "language_info": {
      "name": "python"
    }
  },
  "cells": [
    {
      "cell_type": "code",
      "source": [
        "pip install netCDF4"
      ],
      "metadata": {
        "colab": {
          "base_uri": "https://localhost:8080/"
        },
        "id": "Bv8eAs_M1Z7A",
        "outputId": "1a663938-a79e-44a6-8281-2c793445c768"
      },
      "execution_count": null,
      "outputs": [
        {
          "output_type": "stream",
          "name": "stdout",
          "text": [
            "Requirement already satisfied: netCDF4 in /usr/local/lib/python3.10/dist-packages (1.7.1.post1)\n",
            "Requirement already satisfied: cftime in /usr/local/lib/python3.10/dist-packages (from netCDF4) (1.6.4)\n",
            "Requirement already satisfied: certifi in /usr/local/lib/python3.10/dist-packages (from netCDF4) (2024.6.2)\n",
            "Requirement already satisfied: numpy in /usr/local/lib/python3.10/dist-packages (from netCDF4) (1.25.2)\n"
          ]
        }
      ]
    },
    {
      "cell_type": "code",
      "execution_count": null,
      "metadata": {
        "id": "8Fq48znT0Gta"
      },
      "outputs": [],
      "source": [
        "import netCDF4 as nc\n",
        "import xarray as xr\n",
        "import numpy as np\n",
        "import csv\n",
        "import matplotlib.pyplot as plt\n",
        "\n",
        "\n",
        "cng_ds = xr.open_dataset('/content/WGM2012_Bouguer_ponc_2min.grd')\n",
        "\n",
        "\n",
        "cng_lat = np.asarray(cng_ds['y'].values)\n",
        "cng_lon = np.asarray(cng_ds['x'].values)\n",
        "cng_data = np.asarray(cng_ds['z'].values)\n",
        "\n",
        "\n",
        "# Create a grid of coordinates\n",
        "lon_grid, lat_grid = np.meshgrid(cng_lon, cng_lat)\n",
        "\n",
        "# Flatten the grids and data variable\n",
        "lon_flat = lon_grid.flatten()\n",
        "lat_flat = lat_grid.flatten()\n",
        "data_flat = cng_data.flatten()\n",
        "\n",
        "\n",
        "# Combine into XYZ format\n",
        "xyz_data = np.column_stack((lon_flat, lat_flat,data_flat))\n",
        "\n",
        "# Write to a CSV file\n",
        "with open('bouguer_grid_points.csv', 'w', newline='') as file:\n",
        "    writer = csv.writer(file)\n",
        "    writer.writerow(['Longitude', 'Latitude','Data'])  # Write header\n",
        "    writer.writerows(xyz_data)\n"
      ]
    }
  ]
}